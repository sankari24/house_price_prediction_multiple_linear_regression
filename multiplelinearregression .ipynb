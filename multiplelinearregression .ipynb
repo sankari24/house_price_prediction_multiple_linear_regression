{
  "nbformat": 4,
  "nbformat_minor": 0,
  "metadata": {
    "colab": {
      "provenance": []
    },
    "kernelspec": {
      "name": "python3",
      "display_name": "Python 3"
    },
    "language_info": {
      "name": "python"
    }
  },
  "cells": [
    {
      "cell_type": "markdown",
      "source": [
        "## **PROJECT: BUILDING A MULTIPLE LINEAR REGRESSION MODEL FOR HOUSE PRICE PREDICTION**\n"
      ],
      "metadata": {
        "id": "_VbULv__IlZ8"
      }
    },
    {
      "cell_type": "markdown",
      "source": [
        "**STEP 1: Importing required libraries**"
      ],
      "metadata": {
        "id": "TLWVwAhLI9ks"
      }
    },
    {
      "cell_type": "code",
      "execution_count": null,
      "metadata": {
        "id": "D3bgRqaRITc-"
      },
      "outputs": [],
      "source": [
        "import numpy as np\n",
        "import pandas as pd\n",
        "import matplotlib.pyplot as plt\n",
        "import math\n",
        "import copy\n"
      ]
    },
    {
      "cell_type": "markdown",
      "source": [
        " **STEP 2: Loading the data**\n",
        "\n"
      ],
      "metadata": {
        "id": "NK6S-vj-JJYM"
      }
    },
    {
      "cell_type": "code",
      "source": [
        "x=np.array([[2104,5,1,45],[1416,3,2,40],[852,2,1,35]]) #size of house in 1000 sqft unit,no.of.bedrooms,no.of.floor,age\n",
        "y=np.array([460,232,178]) #price of house in 1000 dollars"
      ],
      "metadata": {
        "id": "ndYfBAuaJaqd"
      },
      "execution_count": null,
      "outputs": []
    },
    {
      "cell_type": "markdown",
      "source": [
        "**Step 3: Initialing The Parameters**"
      ],
      "metadata": {
        "id": "rNftEEu6JfH9"
      }
    },
    {
      "cell_type": "code",
      "source": [
        "b_init=785.181136799\n",
        "w_init=np.array([0.39133535,18.75376741,-53.36032453,-26.421310])\n",
        "m=len(x)"
      ],
      "metadata": {
        "id": "qOQEj0m7JjaF"
      },
      "execution_count": null,
      "outputs": []
    },
    {
      "cell_type": "markdown",
      "source": [
        "**STEP 4:BUILDING A MULTIPLE LINEAR REGRESSION MODEL**"
      ],
      "metadata": {
        "id": "UNpHqLsmJ7s2"
      }
    },
    {
      "cell_type": "markdown",
      "source": [
        "3 steps:\n",
        "\n",
        "      1) compute cost\n",
        "\n",
        "      2)comute gradient\n",
        "      \n",
        "      3)run gradient descent"
      ],
      "metadata": {
        "id": "F0Q-IDivKIfS"
      }
    },
    {
      "cell_type": "markdown",
      "source": [
        "**1)compute cost**"
      ],
      "metadata": {
        "id": "UIFpaJqZKOLa"
      }
    },
    {
      "cell_type": "code",
      "source": [
        "def cost_computation(x,y,w,b):\n",
        "  final_cost=0\n",
        "  cost_sum=0\n",
        "  for i in range(m):\n",
        "    f_wb_i=np.dot(x[i],w)+b\n",
        "    cost=(f_wb_i-y[i])**2\n",
        "    cost_sum = cost_sum+cost\n",
        "  final_cost=cost_sum * (1/(2*m))\n",
        "  return final_cost\n"
      ],
      "metadata": {
        "id": "zPvzBitBKE81"
      },
      "execution_count": null,
      "outputs": []
    },
    {
      "cell_type": "markdown",
      "source": [
        "**2) compute gradient**"
      ],
      "metadata": {
        "id": "D3mwPeb1KjZC"
      }
    },
    {
      "cell_type": "code",
      "source": [
        "def gradient_computation(x,y,w,b):\n",
        "  m,n=x.shape\n",
        "  dj_dw=np.zeros((n,))\n",
        "  dj_db=0\n",
        "  for i in range(m):\n",
        "    err=(np.dot(x[i],w)+b)-y[i]\n",
        "    for j in range(n):\n",
        "      dj_dw[j]=dj_dw[j]+err*x[i,j]\n",
        "      dj_db=dj_db+err\n",
        "  dj_dw=dj_dw/m\n",
        "  dj_db=dj_db/m\n",
        "  return dj_dw,dj_db"
      ],
      "metadata": {
        "id": "SV1ui1KbKp2q"
      },
      "execution_count": null,
      "outputs": []
    },
    {
      "cell_type": "markdown",
      "source": [
        "**3) run grdaient descent**"
      ],
      "metadata": {
        "id": "yi701OwTKt06"
      }
    },
    {
      "cell_type": "code",
      "source": [
        "def gradient_descent(x,y,w_init,b_init,alpha,no_of_iters,cost_function,gradient_function):\n",
        "  w=copy.deepcopy(w_init)\n",
        "  b=b_init\n",
        "  j_hist=[]\n",
        "  for i in range(no_of_iters):\n",
        "    dj_dw,dj_db=gradient_function(x,y,w,b)\n",
        "    w = w-alpha*dj_dw\n",
        "    b = b-alpha*dj_db\n",
        "    if i<100000:\n",
        "      j_hist.append(cost_function(x,y,w,b))\n",
        "    if i % math.ceil(no_of_iters/10)== 0:\n",
        "      print(f\"Iteration {i:4}:\",f\"Cost: {j_hist[-1]:0.2e}\")\n",
        "  return w,b,j_hist"
      ],
      "metadata": {
        "id": "QLjnC-l_KzhH"
      },
      "execution_count": null,
      "outputs": []
    },
    {
      "cell_type": "markdown",
      "source": [
        "**STEP 5: Calling the functions**"
      ],
      "metadata": {
        "id": "M6xgDScAK-N3"
      }
    },
    {
      "cell_type": "code",
      "source": [
        "w_init=np.zeros_like(w_init)\n",
        "b_init=0\n",
        "iterations=1000\n",
        "temp_alpha=5.0e-7\n",
        "w_final,b_final,j_hist=gradient_descent(x,y,w_init,b_init,temp_alpha,iterations,cost_computation,gradient_computation)\n",
        "print(f\"(w,b) found by gradient descent:({w_final},{b_final:0.2f})\")"
      ],
      "metadata": {
        "colab": {
          "base_uri": "https://localhost:8080/"
        },
        "id": "cRfEtQagLIaJ",
        "outputId": "441e5397-f763-458c-d83e-7a1bdcfb328d"
      },
      "execution_count": null,
      "outputs": [
        {
          "output_type": "stream",
          "name": "stdout",
          "text": [
            "Iteration    0: Cost: 2.53e+03\n",
            "Iteration  100: Cost: 6.96e+02\n",
            "Iteration  200: Cost: 6.95e+02\n",
            "Iteration  300: Cost: 6.94e+02\n",
            "Iteration  400: Cost: 6.93e+02\n",
            "Iteration  500: Cost: 6.92e+02\n",
            "Iteration  600: Cost: 6.91e+02\n",
            "Iteration  700: Cost: 6.90e+02\n",
            "Iteration  800: Cost: 6.89e+02\n",
            "Iteration  900: Cost: 6.88e+02\n",
            "(w,b) found by gradient descent:([ 0.20396965  0.00374917 -0.01124846 -0.06585639],-0.01)\n"
          ]
        }
      ]
    },
    {
      "cell_type": "markdown",
      "source": [
        "**STEP 6: Final Prediction**"
      ],
      "metadata": {
        "id": "k7bKipzaLQ_F"
      }
    },
    {
      "cell_type": "code",
      "source": [
        "m,_ = x.shape\n",
        "predicted = np.zeros(m)\n",
        "for i in range(m):\n",
        "  predicted[i] = np.dot(x[i],w_final) + b_final\n",
        "  print(f\"prediction:{predicted[i]} ,{y[i]}\")"
      ],
      "metadata": {
        "colab": {
          "base_uri": "https://localhost:8080/"
        },
        "id": "aoZlAcHlLZyF",
        "outputId": "ea209fa7-db7e-4e9b-f683-829f0ad1bc30"
      },
      "execution_count": null,
      "outputs": [
        {
          "output_type": "stream",
          "name": "stdout",
          "text": [
            "prediction:426.18716847408876 ,460\n",
            "prediction:286.1665824673301 ,232\n",
            "prediction:171.46447949846745 ,178\n"
          ]
        }
      ]
    }
  ]
}